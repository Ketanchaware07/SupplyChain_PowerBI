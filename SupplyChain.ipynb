{
 "cells": [
  {
   "cell_type": "code",
   "execution_count": 3,
   "id": "644ba1db-444a-4161-ba48-c070b071ca40",
   "metadata": {},
   "outputs": [],
   "source": [
    "import pandas as pd\n",
    "import numpy as np\n",
    "import random\n",
    "from faker import Faker\n",
    "\n",
    "fake = Faker()\n",
    "np.random.seed(42)\n",
    "\n"
   ]
  },
  {
   "cell_type": "code",
   "execution_count": 2,
   "id": "aca6dcf2-12a6-466a-94cf-c8f07f4543e5",
   "metadata": {},
   "outputs": [
    {
     "name": "stdout",
     "output_type": "stream",
     "text": [
      "Collecting faker\n",
      "  Downloading faker-37.3.0-py3-none-any.whl.metadata (15 kB)\n",
      "Requirement already satisfied: tzdata in c:\\users\\rinkal\\anaconda3\\lib\\site-packages (from faker) (2023.3)\n",
      "Downloading faker-37.3.0-py3-none-any.whl (1.9 MB)\n",
      "   ---------------------------------------- 0.0/1.9 MB ? eta -:--:--\n",
      "   ---------------------------------------- 0.0/1.9 MB ? eta -:--:--\n",
      "   - -------------------------------------- 0.1/1.9 MB 825.8 kB/s eta 0:00:03\n",
      "   ----- ---------------------------------- 0.3/1.9 MB 2.0 MB/s eta 0:00:01\n",
      "   ----------- ---------------------------- 0.6/1.9 MB 3.5 MB/s eta 0:00:01\n",
      "   -------------------------- ------------- 1.3/1.9 MB 6.3 MB/s eta 0:00:01\n",
      "   ---------------------------------------- 1.9/1.9 MB 7.7 MB/s eta 0:00:00\n",
      "Installing collected packages: faker\n",
      "Successfully installed faker-37.3.0\n"
     ]
    }
   ],
   "source": [
    "!pip install faker\n"
   ]
  },
  {
   "cell_type": "code",
   "execution_count": 4,
   "id": "8949e567-e815-4600-a231-dcdcdf4643b1",
   "metadata": {},
   "outputs": [],
   "source": [
    "regions = ['Asia', 'Europe', 'North America', 'South America', 'Africa']\n",
    "risk_levels = ['Low', 'Medium', 'High']\n",
    "\n",
    "suppliers = pd.DataFrame({\n",
    "    'SupplierID': [f\"SUP{str(i).zfill(3)}\" for i in range(1, 101)],\n",
    "    'Name': [fake.company() for _ in range(100)],\n",
    "    'Region': np.random.choice(regions, 100),\n",
    "    'Country': [fake.country() for _ in range(100)],\n",
    "    'ReliabilityScore': np.round(np.random.uniform(0.6, 0.99, 100), 2),\n",
    "    'RiskRating': np.random.choice(risk_levels, 100, p=[0.4, 0.4, 0.2])\n",
    "})\n"
   ]
  },
  {
   "cell_type": "code",
   "execution_count": 5,
   "id": "4a503221-6ac0-472e-be73-b0abcc3304c8",
   "metadata": {},
   "outputs": [],
   "source": [
    "categories = ['Raw Material', 'Component', 'Packaging', 'Chemical']\n",
    "\n",
    "products = pd.DataFrame({\n",
    "    'ProductID': [f\"PRD{str(i).zfill(4)}\" for i in range(1, 1001)],\n",
    "    'Name': [fake.word().capitalize() + \" \" + fake.word().capitalize() for _ in range(1000)],\n",
    "    'Category': np.random.choice(categories, 1000),\n",
    "    'SupplierID': np.random.choice(suppliers['SupplierID'], 1000)\n",
    "})\n"
   ]
  },
  {
   "cell_type": "code",
   "execution_count": 6,
   "id": "84a8797a-6fa1-4f41-8281-7a3e49749d29",
   "metadata": {},
   "outputs": [],
   "source": [
    "base_date = pd.to_datetime(\"2024-01-01\")\n",
    "\n",
    "shipments = pd.DataFrame({\n",
    "    'ShipmentID': [f\"SHP{str(i).zfill(5)}\" for i in range(1, 10001)],\n",
    "    'SupplierID': np.random.choice(suppliers['SupplierID'], 10000),\n",
    "    'OrderDate': [base_date + pd.Timedelta(days=random.randint(0, 180)) for _ in range(10000)],\n",
    "})\n",
    "\n",
    "shipments['ExpectedDelivery'] = shipments['OrderDate'] + pd.to_timedelta(np.random.randint(7, 15, size=10000), unit='D')\n",
    "shipments['ActualDelivery'] = shipments['ExpectedDelivery'] + pd.to_timedelta(np.random.randint(-2, 10, size=10000), unit='D')\n",
    "shipments['Status'] = np.where(shipments['ActualDelivery'] > shipments['ExpectedDelivery'], 'Delayed', 'Delivered')\n"
   ]
  },
  {
   "cell_type": "code",
   "execution_count": 7,
   "id": "2cf1d8e3-22fb-409e-aff6-de061718f21a",
   "metadata": {},
   "outputs": [],
   "source": [
    "event_types = ['Flood', 'Strike', 'Cyberattack', 'Earthquake', 'Political Conflict']\n",
    "\n",
    "disruptions = pd.DataFrame({\n",
    "    'EventID': [f\"EVT{str(i).zfill(3)}\" for i in range(1, 101)],\n",
    "    'Region': np.random.choice(regions, 100),\n",
    "    'Type': np.random.choice(event_types, 100),\n",
    "    'StartDate': [base_date + pd.Timedelta(days=random.randint(0, 180)) for _ in range(100)],\n",
    "})\n",
    "\n",
    "disruptions['EndDate'] = disruptions['StartDate'] + pd.to_timedelta(np.random.randint(3, 15, size=100), unit='D')\n",
    "disruptions['Severity'] = np.random.randint(1, 11, size=100)\n"
   ]
  },
  {
   "cell_type": "code",
   "execution_count": 8,
   "id": "bc34ed35-2c5e-44ec-898b-a71283722cfd",
   "metadata": {},
   "outputs": [],
   "source": [
    "vendor_ratings = pd.DataFrame({\n",
    "    'RatingID': [f\"RAT{str(i).zfill(5)}\" for i in range(1, 5001)],\n",
    "    'SupplierID': np.random.choice(suppliers['SupplierID'], 5000),\n",
    "    'RatingDate': [base_date + pd.Timedelta(days=random.randint(0, 180)) for _ in range(5000)],\n",
    "    'Score': np.random.randint(1, 11, 5000),\n",
    "    'Notes': [fake.sentence(nb_words=5) for _ in range(5000)]\n",
    "})\n"
   ]
  },
  {
   "cell_type": "code",
   "execution_count": 9,
   "id": "cc9dfd4b-10b2-490c-a2aa-c831fe36e02d",
   "metadata": {},
   "outputs": [],
   "source": [
    "suppliers.to_csv(\"suppliers.csv\", index=False)\n",
    "products.to_csv(\"products.csv\", index=False)\n",
    "shipments.to_csv(\"shipments.csv\", index=False)\n",
    "disruptions.to_csv(\"disruptions.csv\", index=False)\n",
    "vendor_ratings.to_csv(\"vendor_ratings.csv\", index=False)\n"
   ]
  },
  {
   "cell_type": "code",
   "execution_count": null,
   "id": "f608e1c3-2b45-4aa6-8ee0-bae51b89d39e",
   "metadata": {},
   "outputs": [],
   "source": []
  }
 ],
 "metadata": {
  "kernelspec": {
   "display_name": "Python 3 (ipykernel)",
   "language": "python",
   "name": "python3"
  },
  "language_info": {
   "codemirror_mode": {
    "name": "ipython",
    "version": 3
   },
   "file_extension": ".py",
   "mimetype": "text/x-python",
   "name": "python",
   "nbconvert_exporter": "python",
   "pygments_lexer": "ipython3",
   "version": "3.11.7"
  }
 },
 "nbformat": 4,
 "nbformat_minor": 5
}
